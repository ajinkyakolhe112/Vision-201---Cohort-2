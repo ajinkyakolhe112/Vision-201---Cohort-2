{
  "cells": [
    {
      "cell_type": "markdown",
      "metadata": {
        "id": "B_MBkA7CB845"
      },
      "source": [
        "### Introduction to Neuron & Layers in Pytorch"
      ]
    },
    {
      "cell_type": "code",
      "execution_count": null,
      "metadata": {
        "id": "_0uk5QJrBrTu"
      },
      "outputs": [],
      "source": [
        "import torch\n",
        "import torchinfo"
      ]
    },
    {
      "cell_type": "code",
      "execution_count": null,
      "metadata": {
        "colab": {
          "base_uri": "https://localhost:8080/"
        },
        "id": "EI0nMbolH17F",
        "outputId": "7f2177d7-268f-4e7c-c9a9-a613b7d0c516"
      },
      "outputs": [
        {
          "data": {
            "text/plain": [
              "Conv2d(10, 4, kernel_size=(3, 3), stride=(1, 1))"
            ]
          },
          "execution_count": 28,
          "metadata": {},
          "output_type": "execute_result"
        }
      ],
      "source": [
        "# Two Most Important Layers in Neural Networks\n",
        "torch.nn.Linear(in_features = 10, out_features = 4)\n",
        "torch.nn.Conv2d(in_channels = 10, out_channels = 4 , kernel_size = (3,3) )"
      ]
    },
    {
      "cell_type": "code",
      "execution_count": null,
      "metadata": {
        "id": "U2qcDy4TBr4H"
      },
      "outputs": [],
      "source": [
        "neuron = torch.nn.Linear(in_features = 7, out_features = 1)"
      ]
    },
    {
      "cell_type": "code",
      "execution_count": null,
      "metadata": {
        "id": "ZyBxp6IkBr1q"
      },
      "outputs": [],
      "source": [
        "single_neuron = torch.nn.Linear(in_features = 7, out_features = 1)\n",
        "two_neurons   = torch.nn.Linear(in_features = 7, out_features = 2)"
      ]
    },
    {
      "cell_type": "code",
      "execution_count": null,
      "metadata": {
        "colab": {
          "base_uri": "https://localhost:8080/"
        },
        "id": "O0sL15NCBrzd",
        "outputId": "4cd957d2-a337-4a11-b7f9-9d20bb0ad526"
      },
      "outputs": [
        {
          "data": {
            "text/plain": [
              "Linear(in_features=7, out_features=1, bias=True)"
            ]
          },
          "execution_count": 12,
          "metadata": {},
          "output_type": "execute_result"
        }
      ],
      "source": [
        "neuron"
      ]
    },
    {
      "cell_type": "code",
      "execution_count": null,
      "metadata": {
        "id": "T5f47-N6BrsB"
      },
      "outputs": [],
      "source": [
        "# incoming_features =\n",
        "hidden_layer_4neurons_7incoming_connections = torch.nn.Linear(in_features = 7, out_features = 4)\n",
        "layer = torch.nn.Linear(in_features = 7, out_features = 4)"
      ]
    },
    {
      "cell_type": "code",
      "execution_count": null,
      "metadata": {
        "colab": {
          "base_uri": "https://localhost:8080/"
        },
        "id": "VmQu6RNQBrmN",
        "outputId": "0659e35a-26f5-47bc-96f1-40ac9ae46170"
      },
      "outputs": [
        {
          "data": {
            "text/plain": [
              "(Parameter containing:\n",
              " tensor([[-0.3680,  0.1754, -0.3521,  0.0451, -0.2955, -0.1238,  0.1055]],\n",
              "        requires_grad=True),\n",
              " Parameter containing:\n",
              " tensor([0.3220], requires_grad=True))"
            ]
          },
          "execution_count": 22,
          "metadata": {},
          "output_type": "execute_result"
        }
      ],
      "source": [
        "neuron.weight , neuron.bias"
      ]
    },
    {
      "cell_type": "code",
      "execution_count": null,
      "metadata": {
        "colab": {
          "base_uri": "https://localhost:8080/"
        },
        "id": "_7upvN0mBrjN",
        "outputId": "624d077c-f036-4369-b79d-5de0db1a4a45"
      },
      "outputs": [
        {
          "data": {
            "text/plain": [
              "Parameter containing:\n",
              "tensor([[-0.0210, -0.1476, -0.2578,  0.1311, -0.0995, -0.0612, -0.0658],\n",
              "        [ 0.3667,  0.2084,  0.0590,  0.2777, -0.1867, -0.1898,  0.1450],\n",
              "        [-0.2967,  0.2312, -0.1104,  0.3452,  0.2795, -0.0177,  0.1001],\n",
              "        [-0.1783,  0.1250, -0.0018, -0.0288,  0.3249, -0.1576, -0.1186]],\n",
              "       requires_grad=True)"
            ]
          },
          "execution_count": 26,
          "metadata": {},
          "output_type": "execute_result"
        }
      ],
      "source": [
        "layer.weight"
      ]
    },
    {
      "cell_type": "markdown",
      "metadata": {
        "id": "EH2Ran8FJACo"
      },
      "source": [
        "#### Class Assignment\n",
        "\n",
        "1. Build a Neural Network of 3 Layers [4, 5, 2] in Tensorflow Playground & NN SVG\n",
        "2. Build the same Neural Network in Pytorch Code as well\n",
        "3. Print weights of 3rd Neuron in 2nd Layer\n",
        "4. Print weights of 1st Neuron in 3rd Layer\n",
        "\n",
        "**When in doubt, use two universal functions in python, vars(SOMETHING) and dir(SOMETHING)**"
      ]
    },
    {
      "cell_type": "code",
      "execution_count": null,
      "metadata": {
        "id": "4gB73wrYI-3v"
      },
      "outputs": [],
      "source": [
        "layer_2 = torch.nn.Linear(in_features = 4, out_features = 5)\n",
        "layer_3 = torch.nn.Linear(in_features = 5, out_features = 2)"
      ]
    },
    {
      "cell_type": "code",
      "execution_count": null,
      "metadata": {
        "colab": {
          "base_uri": "https://localhost:8080/"
        },
        "id": "DHOhRl8ZI-y8",
        "outputId": "5346111c-88c0-4e56-ca73-030da1b4ef40"
      },
      "outputs": [
        {
          "data": {
            "text/plain": [
              "tensor([ 0.2262,  0.2493, -0.4057,  0.2504], grad_fn=<SelectBackward0>)"
            ]
          },
          "execution_count": 33,
          "metadata": {},
          "output_type": "execute_result"
        }
      ],
      "source": [
        "layer_2.weight[3]"
      ]
    },
    {
      "cell_type": "code",
      "execution_count": null,
      "metadata": {
        "colab": {
          "base_uri": "https://localhost:8080/"
        },
        "id": "4FAbR5ahI-pp",
        "outputId": "4fd1c59b-14b1-4d06-ddba-67fe68fd5373"
      },
      "outputs": [
        {
          "data": {
            "text/plain": [
              "{'training': True,\n",
              " '_parameters': OrderedDict([('weight', Parameter containing:\n",
              "               tensor([[-0.2025, -0.4718, -0.2250,  0.2422],\n",
              "                       [ 0.2023, -0.1723,  0.4463, -0.3200],\n",
              "                       [ 0.3479,  0.0548,  0.4937,  0.3608],\n",
              "                       [ 0.2262,  0.2493, -0.4057,  0.2504],\n",
              "                       [ 0.4524, -0.2140,  0.2721,  0.2073]], requires_grad=True)),\n",
              "              ('bias',\n",
              "               Parameter containing:\n",
              "               tensor([ 0.0582,  0.3151, -0.1962, -0.1422, -0.4621], requires_grad=True))]),\n",
              " '_buffers': OrderedDict(),\n",
              " '_non_persistent_buffers_set': set(),\n",
              " '_backward_pre_hooks': OrderedDict(),\n",
              " '_backward_hooks': OrderedDict(),\n",
              " '_is_full_backward_hook': None,\n",
              " '_forward_hooks': OrderedDict(),\n",
              " '_forward_hooks_with_kwargs': OrderedDict(),\n",
              " '_forward_hooks_always_called': OrderedDict(),\n",
              " '_forward_pre_hooks': OrderedDict(),\n",
              " '_forward_pre_hooks_with_kwargs': OrderedDict(),\n",
              " '_state_dict_hooks': OrderedDict(),\n",
              " '_state_dict_pre_hooks': OrderedDict(),\n",
              " '_load_state_dict_pre_hooks': OrderedDict(),\n",
              " '_load_state_dict_post_hooks': OrderedDict(),\n",
              " '_modules': OrderedDict(),\n",
              " 'in_features': 4,\n",
              " 'out_features': 5}"
            ]
          },
          "execution_count": 34,
          "metadata": {},
          "output_type": "execute_result"
        }
      ],
      "source": [
        "vars(layer_2)"
      ]
    },
    {
      "cell_type": "code",
      "execution_count": null,
      "metadata": {
        "colab": {
          "base_uri": "https://localhost:8080/",
          "height": 269,
          "referenced_widgets": [
            "79926361aa2c482c81928cc12496c252",
            "09b9f21ae5884bfc9df05cd664552b65",
            "856c3cd4f6fe4b779c1bb57e39fc7348",
            "2f96a4ebed70490c8f90a0c227989f60",
            "3b69b8c768ea4cd19d4cdaf10de85fa7",
            "09b13da39754457daa36cf2fe553c0c4",
            "d333250f41224ea88c2dd90f70f3df7d",
            "bb1168bd80e846169f6789488d4568ec",
            "f4efc6f45f3545c3bfd54513613b1bd7",
            "b52855c95a524095834f35917a59fb08",
            "34d3faf088e04e488c769263f6253f04",
            "abc03ce6ac094a478e19dadb844e2b18",
            "d0055d33584143fbb946130d7fb42570",
            "d2ad874016d84de9bac833913c4d34fb",
            "54fc6473f5c140f3a2add034fdcdd2f7",
            "7674eaf95ec04a4485c9ad0b35a4b9e4",
            "ff6de814d880495297b14fdfa5c43444",
            "19e4f8b9238e421795fb97915ffa695e",
            "a40e9126292849d5927ad4c4ad68549c",
            "25792d1bf9264f93812c602a34b8c17a",
            "a60429e2af324b3fb1a8ed0ca219aeff",
            "10ad68198f03402eab6127b74729eda0",
            "1dc92441ba134342a785e8cecb445d5e",
            "057fc18dea454c6486851dc2460eb0f7",
            "ad9a59c7c4944c54a7e362f8fdbb6d54",
            "02296bc190da4c8c86a0b9aca636a8c3",
            "a0774bb43fcd4acdbca2192ad0c6a9c7",
            "645b68e572e6419ab4ae68583b2b8a86",
            "660fcc29ff9b4b65af9f0fb26e9055e0",
            "59b4cf2f97a348da82570966407bd07c",
            "27f19d80bfc346e2879a560ce24fad8f",
            "8d746526a6b9435ca6969dd10a53ec0f",
            "c6b0f6ab47fe49969003d0aaa8aaae7f",
            "781ecd85035d40efb256d8e4f6cc3616",
            "8204198da8e343e1b2f6092def0bf2a6",
            "bd5cabbda477468f9f9365440046939e",
            "d8bf3273572c4c5dac33181820360a6f",
            "11987469f932470cab48f694198ef922",
            "aabba526817c4ee6bd00c06273bcb90d",
            "fccd23162a494ba8b1b0e6fd88da437d",
            "870c9ab251714153ac758feb6db75ec9",
            "091baf1772cf4dccad23b1a31a31d30b",
            "ec3b316b68dc4fd897529ed6b8c8d7e5",
            "c89d4e80b0c747eaabcb0b577d81e286"
          ]
        },
        "id": "Avi-ok5SPgee",
        "outputId": "26e516b4-0cff-436d-d528-6a1d0a932e4b"
      },
      "outputs": [
        {
          "name": "stderr",
          "output_type": "stream",
          "text": [
            "/usr/local/lib/python3.10/dist-packages/huggingface_hub/utils/_token.py:89: UserWarning: \n",
            "The secret `HF_TOKEN` does not exist in your Colab secrets.\n",
            "To authenticate with the Hugging Face Hub, create a token in your settings tab (https://huggingface.co/settings/tokens), set it as secret in your Google Colab and restart your session.\n",
            "You will be able to reuse this secret in all of your notebooks.\n",
            "Please note that authentication is recommended but still optional to access public models or datasets.\n",
            "  warnings.warn(\n"
          ]
        },
        {
          "data": {
            "application/vnd.jupyter.widget-view+json": {
              "model_id": "79926361aa2c482c81928cc12496c252",
              "version_major": 2,
              "version_minor": 0
            },
            "text/plain": [
              "Downloading data:   0%|          | 0.00/15.6M [00:00<?, ?B/s]"
            ]
          },
          "metadata": {},
          "output_type": "display_data"
        },
        {
          "data": {
            "application/vnd.jupyter.widget-view+json": {
              "model_id": "abc03ce6ac094a478e19dadb844e2b18",
              "version_major": 2,
              "version_minor": 0
            },
            "text/plain": [
              "Downloading data:   0%|          | 0.00/2.60M [00:00<?, ?B/s]"
            ]
          },
          "metadata": {},
          "output_type": "display_data"
        },
        {
          "data": {
            "application/vnd.jupyter.widget-view+json": {
              "model_id": "1dc92441ba134342a785e8cecb445d5e",
              "version_major": 2,
              "version_minor": 0
            },
            "text/plain": [
              "Generating train split:   0%|          | 0/60000 [00:00<?, ? examples/s]"
            ]
          },
          "metadata": {},
          "output_type": "display_data"
        },
        {
          "data": {
            "application/vnd.jupyter.widget-view+json": {
              "model_id": "781ecd85035d40efb256d8e4f6cc3616",
              "version_major": 2,
              "version_minor": 0
            },
            "text/plain": [
              "Generating test split:   0%|          | 0/10000 [00:00<?, ? examples/s]"
            ]
          },
          "metadata": {},
          "output_type": "display_data"
        }
      ],
      "source": [
        "import datasets     as huggingface_datasets\n",
        "\n",
        "dataset            = huggingface_datasets.load_dataset(\"mnist\",) # streaming = True)"
      ]
    },
    {
      "cell_type": "code",
      "execution_count": null,
      "metadata": {
        "colab": {
          "base_uri": "https://localhost:8080/"
        },
        "id": "ClOzsO0VPtH7",
        "outputId": "834866a3-190c-45cb-f14e-cc6df5da8617"
      },
      "outputs": [
        {
          "data": {
            "text/plain": [
              "{'image': <PIL.PngImagePlugin.PngImageFile image mode=L size=28x28>,\n",
              " 'label': 5}"
            ]
          },
          "execution_count": 38,
          "metadata": {},
          "output_type": "execute_result"
        }
      ],
      "source": [
        "dataset['train'][0]"
      ]
    },
    {
      "cell_type": "code",
      "execution_count": null,
      "metadata": {
        "colab": {
          "base_uri": "https://localhost:8080/",
          "height": 45
        },
        "id": "bMXoM0uvPugp",
        "outputId": "c39473a0-442b-4b74-a4b8-5d3fe6d5ea85"
      },
      "outputs": [
        {
          "data": {
            "image/png": "[encoded data removed]",
            "text/plain": [
              "<PIL.PngImagePlugin.PngImageFile image mode=L size=28x28>"
            ]
          },
          "execution_count": 40,
          "metadata": {},
          "output_type": "execute_result"
        }
      ],
      "source": [
        "dataset['train'][10]['image']"
      ]
    },
    {
      "cell_type": "markdown",
      "metadata": {
        "id": "6MC4qDSfDAAh"
      },
      "source": [
        "### Downloading the Dataset"
      ]
    },
    {
      "cell_type": "code",
      "execution_count": null,
      "metadata": {
        "id": "5xSaNbsbAE23"
      },
      "outputs": [],
      "source": [
        "!pip install datasets torchinfo wandb torchmetrics datasets[vision]"
      ]
    },
    {
      "cell_type": "code",
      "execution_count": null,
      "metadata": {
        "id": "oB4Nod1y_uZB"
      },
      "outputs": [],
      "source": [
        "# ! KEY CODE\n",
        "import datasets\n",
        "import datasets     as huggingface_datasets\n",
        "import torch, torchvision, torchinfo,\n",
        "import torch.nn as nn\n",
        "import torchmetrics\n",
        "import wandb\n",
        "from tqdm import tqdm\n",
        "from torch.nn import ReLU as Threshold_Filter\n",
        "\n",
        "def GET_DATASETS():\n",
        "    # Download\n",
        "    dataset            = huggingface_datasets.load_dataset(\"mnist\", ) # streaming = True)\n",
        "    training_dataset   = dataset['train']\n",
        "    validation_dataset = dataset['test']\n",
        "\n",
        "    # Transform\n",
        "    transformations_list = torchvision.transforms.Compose([\n",
        "        torchvision.transforms.ToTensor(),\n",
        "        torchvision.transforms.Resize(7,7),\n",
        "    ])\n",
        "\n",
        "    def transform_datasets(examples):\n",
        "        examples[\"converted_tensors\"] = []\n",
        "\n",
        "        for image in examples['image']:\n",
        "            transformed_image = transformations_list(image)\n",
        "            examples['converted_tensors'].append(transformed_image)\n",
        "\n",
        "        return examples\n",
        "\n",
        "    training_dataset       = training_dataset   .map(transform_datasets  , batched= True)\n",
        "    validation_dataset     = validation_dataset .map(transform_datasets  , batched= True)\n",
        "\n",
        "    # Convert\n",
        "    new_training_dataset   = training_dataset   .with_format(\"torch\", columns=['label', 'converted_tensors'], dtype = torch.float32)\n",
        "    new_validation_dataset = validation_dataset .with_format(\"torch\", columns=['label', 'converted_tensors'], dtype = torch.float32)\n",
        "\n",
        "    return new_training_dataset, new_validation_dataset\n",
        "\n",
        "training_dataset, validation_dataset = GET_DATASETS()\n",
        "\n",
        "BATCH_SIZE    = 4\n",
        "TOTAL_BATCHES = len(training_dataset) / BATCH_SIZE\n",
        "\n",
        "training_dataloader   = torch.utils.data.DataLoader( dataset= training_dataset   , batch_size= BATCH_SIZE, shuffle= True )\n",
        "validation_dataloader = torch.utils.data.DataLoader( dataset= validation_dataset , batch_size= BATCH_SIZE, shuffle= True )"
      ]
    },
    {
      "cell_type": "markdown",
      "metadata": {
        "id": "Wg7CasOUDC3D"
      },
      "source": [
        "### Writing Model"
      ]
    },
    {
      "cell_type": "code",
      "execution_count": null,
      "metadata": {
        "colab": {
          "base_uri": "https://localhost:8080/"
        },
        "id": "sgr_bRfdCzT7",
        "outputId": "8dd2e0d8-03a6-4a79-ef31-599142847bf8"
      },
      "outputs": [
        {
          "name": "stdout",
          "output_type": "stream",
          "text": [
            "==========================================================================================\n",
            "Layer (type:depth-idx)                   Output Shape              Param #\n",
            "==========================================================================================\n",
            "Sequential                               [1, 10]                   --\n",
            "├─Flatten: 1-1                           [1, 784]                  --\n",
            "├─Linear: 1-2                            [1, 20]                   15,700\n",
            "│    └─weight                                                      ├─15,680\n",
            "│    └─bias                                                        └─20\n",
            "├─ReLU: 1-3                              [1, 20]                   --\n",
            "├─Linear: 1-4                            [1, 15]                   315\n",
            "│    └─weight                                                      ├─300\n",
            "│    └─bias                                                        └─15\n",
            "├─ReLU: 1-5                              [1, 15]                   --\n",
            "├─Linear: 1-6                            [1, 10]                   160\n",
            "│    └─weight                                                      ├─150\n",
            "│    └─bias                                                        └─10\n",
            "==========================================================================================\n",
            "Total params: 16,175\n",
            "Trainable params: 16,175\n",
            "Non-trainable params: 0\n",
            "Total mult-adds (M): 0.02\n",
            "==========================================================================================\n",
            "Input size (MB): 0.00\n",
            "Forward/backward pass size (MB): 0.00\n",
            "Params size (MB): 0.06\n",
            "Estimated Total Size (MB): 0.07\n",
            "==========================================================================================\n"
          ]
        }
      ],
      "source": [
        "device = torch.device(\"cuda\" if torch.cuda.is_available() else \"cpu\")\n",
        "\n",
        "# [ Input Layer = 28*28*1 , Hidden Layer 1 = 20, Hidden Layer 2 = 15, Hidden Layer 3 = 10 ]\n",
        "randomly_initialized_model = torch.nn.Sequential(\n",
        "    nn.Flatten(start_dim=1),\n",
        "\n",
        "    nn.Linear(in_features = 28*28*1  , out_features = 20   ), Threshold_Filter(),                 # LAYER 1: 1st Hidden Layer\n",
        "    nn.Linear(in_features = 20       , out_features = 15   ), Threshold_Filter(),                 # LAYER 2: 2nd Hidden Layer\n",
        "\n",
        "    nn.Linear(in_features = 15       , out_features = 10   ),                            # OUTPUT LAYER\n",
        ")\n",
        "\n",
        "randomly_initialized_model_accelerated = randomly_initialized_model.to(device)\n",
        "\n",
        "model = randomly_initialized_model_accelerated\n",
        "\n",
        "\n",
        "torchinfo.summary(model, input_size=(1,28,28), verbose = 2);"
      ]
    },
    {
      "cell_type": "markdown",
      "metadata": {
        "id": "lUSHEeNFBzZ0"
      },
      "source": [
        "### Model Architecture Experimentation"
      ]
    },
    {
      "cell_type": "markdown",
      "metadata": {
        "id": "46_Bi3QoM2c6"
      },
      "source": [
        "Half an Hour Lab\n",
        "### Question 1: Which Config is better? And Why?**[40, 30, 20 , 10, 10] vs [10, 20, 30 , 40, 10]** for MNIST Data\n",
        "- In Tensorflow Playground, configuration is [8, 4, 2] vs [2 , 4 , 8 ]"
      ]
    },
    {
      "cell_type": "code",
      "execution_count": null,
      "metadata": {
        "colab": {
          "base_uri": "https://localhost:8080/"
        },
        "id": "9uPL6FQR5eg9",
        "outputId": "f138b3fd-e4c2-4b31-a258-1fc9ec46fd96"
      },
      "outputs": [
        {
          "data": {
            "text/plain": [
              "Sequential(\n",
              "  (0): Flatten(start_dim=1, end_dim=-1)\n",
              "  (1): Linear(in_features=784, out_features=10, bias=True)\n",
              "  (2): ReLU()\n",
              "  (3): Linear(in_features=10, out_features=20, bias=True)\n",
              "  (4): ReLU()\n",
              "  (5): Linear(in_features=20, out_features=30, bias=True)\n",
              "  (6): ReLU()\n",
              "  (7): Linear(in_features=30, out_features=40, bias=True)\n",
              "  (8): ReLU()\n",
              "  (9): Linear(in_features=40, out_features=10, bias=True)\n",
              ")"
            ]
          },
          "execution_count": 38,
          "metadata": {},
          "output_type": "execute_result"
        }
      ],
      "source": [
        "Neural_Network_config = [256, 256, 512, 512]\n",
        "\n",
        "layers = []\n",
        "layers.append( nn.Flatten(start_dim=1) )\n",
        "prev   = 1*28*28\n",
        "for current_neurons in Neural_Network_config:\n",
        "    layers.append(    nn.Linear(prev , out_features = current_neurons)    )\n",
        "    layers.append(    Threshold_Filter()   )\n",
        "    prev = current_neurons\n",
        "\n",
        "layers.pop(len(layers) - 1 ) # Final Layer doesn't have activation function. It is a value we need called LOGITS\n",
        "\n",
        "model = nn.Sequential ( * layers )\n",
        "model\n",
        "\n",
        "device = torch.device(\"cuda\" if torch.cuda.is_available() else \"cpu\")\n",
        "model.to(device)"
      ]
    },
    {
      "cell_type": "code",
      "execution_count": null,
      "metadata": {
        "colab": {
          "base_uri": "https://localhost:8080/"
        },
        "id": "0i-FAIiuKtTj",
        "outputId": "a82c3478-292b-4d48-aa66-4410dcd0e23a"
      },
      "outputs": [
        {
          "data": {
            "text/plain": [
              "==========================================================================================\n",
              "Layer (type:depth-idx)                   Output Shape              Param #\n",
              "==========================================================================================\n",
              "Sequential                               [1, 10]                   --\n",
              "├─Flatten: 1-1                           [1, 784]                  --\n",
              "├─Linear: 1-2                            [1, 40]                   31,400\n",
              "├─ReLU: 1-3                              [1, 40]                   --\n",
              "├─Linear: 1-4                            [1, 30]                   1,230\n",
              "├─ReLU: 1-5                              [1, 30]                   --\n",
              "├─Linear: 1-6                            [1, 20]                   620\n",
              "├─ReLU: 1-7                              [1, 20]                   --\n",
              "├─Linear: 1-8                            [1, 10]                   210\n",
              "├─ReLU: 1-9                              [1, 10]                   --\n",
              "├─Linear: 1-10                           [1, 10]                   110\n",
              "==========================================================================================\n",
              "Total params: 33,570\n",
              "Trainable params: 33,570\n",
              "Non-trainable params: 0\n",
              "Total mult-adds (M): 0.03\n",
              "==========================================================================================\n",
              "Input size (MB): 0.00\n",
              "Forward/backward pass size (MB): 0.00\n",
              "Params size (MB): 0.13\n",
              "Estimated Total Size (MB): 0.14\n",
              "=========================================================================================="
            ]
          },
          "execution_count": 36,
          "metadata": {},
          "output_type": "execute_result"
        }
      ],
      "source": [
        "torchinfo.summary(model, input_size = (1,28,28))"
      ]
    },
    {
      "cell_type": "code",
      "execution_count": null,
      "metadata": {
        "colab": {
          "base_uri": "https://localhost:8080/"
        },
        "id": "d7H7tgIG8XTg",
        "outputId": "e53d534d-3280-43f0-d2a3-fce9df48a70b"
      },
      "outputs": [
        {
          "data": {
            "text/plain": [
              "tensor([ 0.1152, -0.1091,  0.1802, -0.1192,  0.1874, -0.0440, -0.0903,  0.1524,\n",
              "        -0.0151, -0.0959, -0.1603,  0.1062,  0.1851, -0.0507, -0.0870,  0.1629,\n",
              "        -0.1124, -0.0665, -0.1739, -0.1646, -0.1797,  0.0321, -0.0490,  0.0900,\n",
              "         0.0693,  0.0327,  0.0551, -0.1290], grad_fn=<SelectBackward0>)"
            ]
          },
          "execution_count": 34,
          "metadata": {},
          "output_type": "execute_result"
        }
      ],
      "source": [
        "model[3].weight[15 - 1]"
      ]
    },
    {
      "cell_type": "code",
      "execution_count": null,
      "metadata": {
        "colab": {
          "base_uri": "https://localhost:8080/"
        },
        "id": "_xLaeUYm8g1e",
        "outputId": "7120ab6b-9a21-44b1-e32b-3ff585b30260"
      },
      "outputs": [
        {
          "data": {
            "text/plain": [
              "(Parameter containing:\n",
              " tensor([[ 0.0223,  0.0204, -0.0140,  ..., -0.0018,  0.0098, -0.0277],\n",
              "         [-0.0040, -0.0214, -0.0120,  ...,  0.0338,  0.0187,  0.0305],\n",
              "         [-0.0340,  0.0305, -0.0132,  ..., -0.0161,  0.0110, -0.0259],\n",
              "         ...,\n",
              "         [ 0.0063, -0.0147, -0.0170,  ...,  0.0010,  0.0146,  0.0237],\n",
              "         [ 0.0128,  0.0352, -0.0254,  ...,  0.0028, -0.0040,  0.0219],\n",
              "         [ 0.0222, -0.0199,  0.0038,  ..., -0.0315, -0.0353,  0.0333]],\n",
              "        requires_grad=True),\n",
              " Parameter containing:\n",
              " tensor([ 0.0052, -0.0348,  0.0227, -0.0244, -0.0072,  0.0142,  0.0191, -0.0064,\n",
              "         -0.0219,  0.0279,  0.0347,  0.0195, -0.0062, -0.0010, -0.0074,  0.0073,\n",
              "          0.0158,  0.0017, -0.0080, -0.0356], requires_grad=True))"
            ]
          },
          "execution_count": 27,
          "metadata": {},
          "output_type": "execute_result"
        }
      ],
      "source": [
        "layer_number_natural = 2\n",
        "model[layer_number_natural - 1].weight, model[layer_number_natural - 1].bias"
      ]
    },
    {
      "cell_type": "markdown",
      "metadata": {
        "id": "K0AaNveUMMAi"
      },
      "source": [
        "## Training Model"
      ]
    },
    {
      "cell_type": "code",
      "execution_count": null,
      "metadata": {
        "colab": {
          "base_uri": "https://localhost:8080/",
          "height": 759,
          "referenced_widgets": [
            "776789dc52a84011a22406010378f538",
            "b12d733d225949fd93beabbc16dedb66",
            "ac8f71ba711a4347b64aba6bfe03aa13",
            "a865bfd9032e4c11b0b07fc76ac653fe",
            "5f5ec49b8c2e43288b1cf423e533da72",
            "2deb59034dbc45c2b7d918302a985282",
            "2766c5f65e30449e95709ec90053b3d2",
            "0ea6f79e895a4dc0840dfcbe1859c617"
          ]
        },
        "id": "8Eae3EP9Dhfa",
        "outputId": "dfc3e2f0-f3ed-4c8d-ce42-a0ca9a17bcde"
      },
      "outputs": [
        {
          "data": {
            "text/html": [
              "Finishing last run (ID:l61ocl3o) before initializing another..."
            ],
            "text/plain": [
              "<IPython.core.display.HTML object>"
            ]
          },
          "metadata": {},
          "output_type": "display_data"
        },
        {
          "data": {
            "application/vnd.jupyter.widget-view+json": {
              "model_id": "776789dc52a84011a22406010378f538",
              "version_major": 2,
              "version_minor": 0
            },
            "text/plain": [
              "VBox(children=(Label(value='0.001 MB of 0.001 MB uploaded\\r'), FloatProgress(value=1.0, max=1.0)))"
            ]
          },
          "metadata": {},
          "output_type": "display_data"
        },
        {
          "data": {
            "text/html": [
              "<style>\n",
              "    table.wandb td:nth-child(1) { padding: 0 10px; text-align: left ; width: auto;} td:nth-child(2) {text-align: left ; width: 100%}\n",
              "    .wandb-row { display: flex; flex-direction: row; flex-wrap: wrap; justify-content: flex-start; width: 100% }\n",
              "    .wandb-col { display: flex; flex-direction: column; flex-basis: 100%; flex: 1; padding: 10px; }\n",
              "    </style>\n",
              "<div class=\"wandb-row\"><div class=\"wandb-col\"><h3>Run history:</h3><br/><table class=\"wandb\"><tr><td>batch_no</td><td>▁▂▃▄▅▇█▁▂▃▅▆▇█▁▃▄▅▆▇▁▂▃▄▅▇█▁▂▃▅▆▇█▁▃▄▅▆█</td></tr><tr><td>epoch_no</td><td>▁▃▅▆█</td></tr><tr><td>loss</td><td>▅▅▅▅▅▅▅▅▅▅▄▅▄▄▄█▄▄▂▁▆▂▂▂▁▁▂▁▁▂▂▁▂▂▁▁▁▁▂▂</td></tr><tr><td>testing_accuracy_avg</td><td>▁▃▇██</td></tr><tr><td>training_accuracy_avg_epoch</td><td>▁▁▁▁▁▁▁▂▂▂▂▂▂▂▄▄▅▅▅▆▇▇▇▇▇▇▇█████████████</td></tr></table><br/></div><div class=\"wandb-col\"><h3>Run summary:</h3><br/><table class=\"wandb\"><tr><td>batch_no</td><td>14999</td></tr><tr><td>epoch_no</td><td>4</td></tr><tr><td>loss</td><td>0.41915</td></tr><tr><td>testing_accuracy_avg</td><td>0.90392</td></tr><tr><td>training_accuracy_avg_epoch</td><td>0.91028</td></tr></table><br/></div></div>"
            ],
            "text/plain": [
              "<IPython.core.display.HTML object>"
            ]
          },
          "metadata": {},
          "output_type": "display_data"
        },
        {
          "data": {
            "text/html": [
              " View run <strong style=\"color:#cdcd00\">laced-violet-24</strong> at: <a href='https://wandb.ai/m2_mac/uncategorized/runs/l61ocl3o' target=\"_blank\">https://wandb.ai/m2_mac/uncategorized/runs/l61ocl3o</a><br/> View project at: <a href='https://wandb.ai/m2_mac/uncategorized' target=\"_blank\">https://wandb.ai/m2_mac/uncategorized</a><br/>Synced 5 W&B file(s), 0 media file(s), 0 artifact file(s) and 0 other file(s)"
            ],
            "text/plain": [
              "<IPython.core.display.HTML object>"
            ]
          },
          "metadata": {},
          "output_type": "display_data"
        },
        {
          "data": {
            "text/html": [
              "Find logs at: <code>./wandb/run-20240519_050328-l61ocl3o/logs</code>"
            ],
            "text/plain": [
              "<IPython.core.display.HTML object>"
            ]
          },
          "metadata": {},
          "output_type": "display_data"
        },
        {
          "data": {
            "text/html": [
              "Successfully finished last run (ID:l61ocl3o). Initializing new run:<br/>"
            ],
            "text/plain": [
              "<IPython.core.display.HTML object>"
            ]
          },
          "metadata": {},
          "output_type": "display_data"
        },
        {
          "data": {
            "text/html": [
              "Tracking run with wandb version 0.17.0"
            ],
            "text/plain": [
              "<IPython.core.display.HTML object>"
            ]
          },
          "metadata": {},
          "output_type": "display_data"
        },
        {
          "data": {
            "text/html": [
              "Run data is saved locally in <code>/content/wandb/run-20240519_052352-07t443bw</code>"
            ],
            "text/plain": [
              "<IPython.core.display.HTML object>"
            ]
          },
          "metadata": {},
          "output_type": "display_data"
        },
        {
          "data": {
            "text/html": [
              "Syncing run <strong><a href='https://wandb.ai/m2_mac/uncategorized/runs/07t443bw' target=\"_blank\">vocal-flower-25</a></strong> to <a href='https://wandb.ai/m2_mac/uncategorized' target=\"_blank\">Weights & Biases</a> (<a href='https://wandb.me/run' target=\"_blank\">docs</a>)<br/>"
            ],
            "text/plain": [
              "<IPython.core.display.HTML object>"
            ]
          },
          "metadata": {},
          "output_type": "display_data"
        },
        {
          "data": {
            "text/html": [
              " View project at <a href='https://wandb.ai/m2_mac/uncategorized' target=\"_blank\">https://wandb.ai/m2_mac/uncategorized</a>"
            ],
            "text/plain": [
              "<IPython.core.display.HTML object>"
            ]
          },
          "metadata": {},
          "output_type": "display_data"
        },
        {
          "data": {
            "text/html": [
              " View run at <a href='https://wandb.ai/m2_mac/uncategorized/runs/07t443bw' target=\"_blank\">https://wandb.ai/m2_mac/uncategorized/runs/07t443bw</a>"
            ],
            "text/plain": [
              "<IPython.core.display.HTML object>"
            ]
          },
          "metadata": {},
          "output_type": "display_data"
        },
        {
          "name": "stderr",
          "output_type": "stream",
          "text": [
            "100%|██████████| 15000/15000 [02:15<00:00, 110.56it/s]\n",
            "100%|██████████| 15000/15000 [01:12<00:00, 206.63it/s]\n",
            "100%|██████████| 15000/15000 [02:19<00:00, 107.53it/s]\n",
            "100%|██████████| 15000/15000 [01:14<00:00, 202.09it/s]\n",
            "100%|██████████| 15000/15000 [02:17<00:00, 108.95it/s]\n",
            "100%|██████████| 15000/15000 [01:16<00:00, 196.79it/s]\n",
            "100%|██████████| 15000/15000 [02:20<00:00, 106.89it/s]\n",
            "100%|██████████| 15000/15000 [01:11<00:00, 210.01it/s]\n",
            "100%|██████████| 15000/15000 [02:17<00:00, 109.24it/s]\n",
            "100%|██████████| 15000/15000 [01:11<00:00, 209.71it/s]\n",
            "100%|██████████| 15000/15000 [02:19<00:00, 107.76it/s]\n",
            "100%|██████████| 15000/15000 [01:13<00:00, 203.82it/s]\n",
            "100%|██████████| 15000/15000 [02:14<00:00, 111.91it/s]\n",
            "100%|██████████| 15000/15000 [01:13<00:00, 204.28it/s]\n",
            "100%|██████████| 15000/15000 [02:15<00:00, 110.88it/s]\n",
            "100%|██████████| 15000/15000 [01:13<00:00, 205.11it/s]\n",
            "100%|██████████| 15000/15000 [02:15<00:00, 110.87it/s]\n",
            "100%|██████████| 15000/15000 [01:12<00:00, 207.82it/s]\n",
            "100%|██████████| 15000/15000 [02:16<00:00, 109.55it/s]\n",
            "100%|██████████| 15000/15000 [01:13<00:00, 205.33it/s]\n"
          ]
        }
      ],
      "source": [
        "def TRAIN_MODEL(model, training_dataloader, validation_dataloader):\n",
        "\n",
        "    # 1. Model Parameters & Their Relationship with Error\n",
        "    parameters_to_optimize = list(model.parameters())\n",
        "\n",
        "    torch.optim      # Optimizer to minimize Loss\n",
        "    LEARNING_RATE    = 0.001\n",
        "    OPTIMIZER        = torch.optim.SGD( params= parameters_to_optimize, lr= LEARNING_RATE )   # 2. Registering Model Parameters with Optimizer, as variables to be minimized\n",
        "\n",
        "    # 4. Calculation of Error of Prediction\n",
        "    ERROR_FUNC       = nn.functional.cross_entropy\n",
        "\n",
        "    # Example of Partial Derivatie\n",
        "    torch.autograd.grad\n",
        "    # x_actual, y_actual = 0, 0\n",
        "    # dError_dWeights  = torch.autograd.grad(\n",
        "                                            # outputs = ERROR_FUNC( model(x_actual), y_actual ),\n",
        "                                            # inputs = parameters_to_optimize\n",
        "                                            # )\n",
        "\n",
        "    # 5. Calculation of relationship of Error & Parameters\n",
        "    model.train(mode=True)\n",
        "\n",
        "    wandb.init()\n",
        "    epochs = 10\n",
        "    for epoch_no in range(epochs):\n",
        "\n",
        "        metric = torchmetrics.Accuracy(task=\"multiclass\", num_classes=10)\n",
        "\n",
        "        for batch_no, batch_dictionary in enumerate(tqdm(training_dataloader)):\n",
        "            x_actual = batch_dictionary['converted_tensors']\n",
        "            y_actual = batch_dictionary['label']\n",
        "\n",
        "            x_actual = x_actual.to(device)\n",
        "            y_actual = y_actual.to(device)\n",
        "\n",
        "            y_predicted_LOGITS = model.forward(x_actual)\n",
        "            loss               = ERROR_FUNC(y_predicted_LOGITS, y_actual.to(torch.int64))\n",
        "            y_predicted_probs  = nn.functional.softmax(y_predicted_LOGITS, dim= 1)\n",
        "\n",
        "\n",
        "            OPTIMIZER.zero_grad()\n",
        "            loss.backward()\n",
        "            OPTIMIZER.step()\n",
        "            \"\"\"\n",
        "            loss.backward() => dError_dWeights  = torch.autograd.grad( outputs = ERROR_FUNC( model(x_actual), y_actual ), inputs = parameters_to_optimize)\n",
        "            for (name, weight), gradient in zip(model.named_parameters(), dError_dWeights):\n",
        "                print(name)\n",
        "                weight = weight - gradient * LEARNING_RATE\n",
        "\n",
        "                print(\"weight & gradient shape = \", weight.shape, gradient.shape)\n",
        "                print(\"weight & gradient values= \", weight, gradient)\n",
        "                print(\"non zero gradients\", torch.count_nonzero(gradient))\n",
        "            \"\"\"\n",
        "\n",
        "            loss_batch      = loss.item()\n",
        "            accuracy_batch  = metric(y_predicted_LOGITS, y_actual)\n",
        "            training_accuracy_avg_epoch = metric.compute() # calculates average accuracy across epoch automatically\n",
        "\n",
        "            metrics_per_batch = {\n",
        "                \"loss\": loss_batch,\n",
        "                # \"accuracy_batch\": accuracy_batch,\n",
        "                \"batch_no\": batch_no,\n",
        "                \"training_accuracy_avg_epoch\": training_accuracy_avg_epoch\n",
        "            }\n",
        "            wandb.log(metrics_per_batch)\n",
        "\n",
        "        metric.reset()\n",
        "        evaluate_model(model, validation_dataloader, epoch_no, training_accuracy_avg_epoch)\n",
        "\n",
        "    # loss.backward(), computes dloss/dw for every parameter w which has requires_grad=True.\n",
        "def evaluate_model(model, validation_dataloader, epoch_no, training_accuracy_avg_epoch):\n",
        "    model.eval()\n",
        "\n",
        "    metric = torchmetrics.Accuracy(task=\"multiclass\", num_classes=10)\n",
        "\n",
        "    with torch.no_grad():\n",
        "        for batch_no, batch_dictionary in enumerate(tqdm(training_dataloader)):\n",
        "            x_actual = batch_dictionary['converted_tensors']\n",
        "            y_actual = batch_dictionary['label']\n",
        "\n",
        "            x_actual = x_actual.to(device)\n",
        "            y_actual = y_actual.to(device)\n",
        "\n",
        "            y_predicted_LOGITS = model.forward(x_actual)\n",
        "            accuracy_batch     = metric(y_predicted_LOGITS, y_actual)\n",
        "\n",
        "        testing_accuracy_avg = metric.compute()\n",
        "\n",
        "        metrics_per_epoch = {\n",
        "            \"training_accuracy_avg_epoch\": training_accuracy_avg_epoch,\n",
        "            \"testing_accuracy_avg\": testing_accuracy_avg,\n",
        "            \"epoch_no\": epoch_no\n",
        "        }\n",
        "        wandb.log(metrics_per_epoch)\n",
        "\n",
        "\n",
        "\n",
        "TRAIN_MODEL(model, training_dataloader, validation_dataloader)\n"
      ]
    },
    {
      "cell_type": "code",
      "execution_count": null,
      "metadata": {
        "id": "OnvrhBfDDna1"
      },
      "outputs": [],
      "source": [
        "import numpy as np\n",
        "\n",
        "def save_predictions_csv(y_predicted_probs):\n",
        "    y_predicted_class = np.argmax(y_predicted_probs, axis=0)\n",
        "    y_indexes         = np.arange(0, len(y_predicted_class), 1)\n",
        "    csv_file = open(\"predictions.csv\",\"w\")\n",
        "    csv_file.write(\"ImageId,Label\")\n",
        "    np.savetxt(csv_file, np.concatenate((y_indexes, y_predicted_class)), delimiter=\",\")"
      ]
    }
  ],
  "metadata": {
    "accelerator": "GPU",
    "colab": {
      "gpuType": "T4",
      "provenance": []
    },
    "kernelspec": {
      "display_name": "Python 3",
      "name": "python3"
    },
    "language_info": {
      "name": "python"
    },
    "widgets": {
      "application/vnd.jupyter.widget-state+json": {
        "02296bc190da4c8c86a0b9aca636a8c3": {
          "model_module": "@jupyter-widgets/controls",
          "model_module_version": "1.5.0",
          "model_name": "HTMLModel",
          "state": {
            "_dom_classes": [],
            "_model_module": "@jupyter-widgets/controls",
            "_model_module_version": "1.5.0",
            "_model_name": "HTMLModel",
            "_view_count": null,
            "_view_module": "@jupyter-widgets/controls",
            "_view_module_version": "1.5.0",
            "_view_name": "HTMLView",
            "description": "",
            "description_tooltip": null,
            "layout": "IPY_MODEL_8d746526a6b9435ca6969dd10a53ec0f",
            "placeholder": "​",
            "style": "IPY_MODEL_c6b0f6ab47fe49969003d0aaa8aaae7f",
            "value": " 60000/60000 [00:00&lt;00:00, 134661.09 examples/s]"
          }
        },
        "057fc18dea454c6486851dc2460eb0f7": {
          "model_module": "@jupyter-widgets/controls",
          "model_module_version": "1.5.0",
          "model_name": "HTMLModel",
          "state": {
            "_dom_classes": [],
            "_model_module": "@jupyter-widgets/controls",
            "_model_module_version": "1.5.0",
            "_model_name": "HTMLModel",
            "_view_count": null,
            "_view_module": "@jupyter-widgets/controls",
            "_view_module_version": "1.5.0",
            "_view_name": "HTMLView",
            "description": "",
            "description_tooltip": null,
            "layout": "IPY_MODEL_645b68e572e6419ab4ae68583b2b8a86",
            "placeholder": "​",
            "style": "IPY_MODEL_660fcc29ff9b4b65af9f0fb26e9055e0",
            "value": "Generating train split: 100%"
          }
        },
        "091baf1772cf4dccad23b1a31a31d30b": {
          "model_module": "@jupyter-widgets/controls",
          "model_module_version": "1.5.0",
          "model_name": "ProgressStyleModel",
          "state": {
            "_model_module": "@jupyter-widgets/controls",
            "_model_module_version": "1.5.0",
            "_model_name": "ProgressStyleModel",
            "_view_count": null,
            "_view_module": "@jupyter-widgets/base",
            "_view_module_version": "1.2.0",
            "_view_name": "StyleView",
            "bar_color": null,
            "description_width": ""
          }
        },
        "09b13da39754457daa36cf2fe553c0c4": {
          "model_module": "@jupyter-widgets/base",
          "model_module_version": "1.2.0",
          "model_name": "LayoutModel",
          "state": {
            "_model_module": "@jupyter-widgets/base",
            "_model_module_version": "1.2.0",
            "_model_name": "LayoutModel",
            "_view_count": null,
            "_view_module": "@jupyter-widgets/base",
            "_view_module_version": "1.2.0",
            "_view_name": "LayoutView",
            "align_content": null,
            "align_items": null,
            "align_self": null,
            "border": null,
            "bottom": null,
            "display": null,
            "flex": null,
            "flex_flow": null,
            "grid_area": null,
            "grid_auto_columns": null,
            "grid_auto_flow": null,
            "grid_auto_rows": null,
            "grid_column": null,
            "grid_gap": null,
            "grid_row": null,
            "grid_template_areas": null,
            "grid_template_columns": null,
            "grid_template_rows": null,
            "height": null,
            "justify_content": null,
            "justify_items": null,
            "left": null,
            "margin": null,
            "max_height": null,
            "max_width": null,
            "min_height": null,
            "min_width": null,
            "object_fit": null,
            "object_position": null,
            "order": null,
            "overflow": null,
            "overflow_x": null,
            "overflow_y": null,
            "padding": null,
            "right": null,
            "top": null,
            "visibility": null,
            "width": null
          }
        },
        "09b9f21ae5884bfc9df05cd664552b65": {
          "model_module": "@jupyter-widgets/controls",
          "model_module_version": "1.5.0",
          "model_name": "HTMLModel",
          "state": {
            "_dom_classes": [],
            "_model_module": "@jupyter-widgets/controls",
            "_model_module_version": "1.5.0",
            "_model_name": "HTMLModel",
            "_view_count": null,
            "_view_module": "@jupyter-widgets/controls",
            "_view_module_version": "1.5.0",
            "_view_name": "HTMLView",
            "description": "",
            "description_tooltip": null,
            "layout": "IPY_MODEL_09b13da39754457daa36cf2fe553c0c4",
            "placeholder": "​",
            "style": "IPY_MODEL_d333250f41224ea88c2dd90f70f3df7d",
            "value": "Downloading data: 100%"
          }
        },
        "0ea6f79e895a4dc0840dfcbe1859c617": {
          "model_module": "@jupyter-widgets/controls",
          "model_module_version": "1.5.0",
          "model_name": "ProgressStyleModel",
          "state": {
            "_model_module": "@jupyter-widgets/controls",
            "_model_module_version": "1.5.0",
            "_model_name": "ProgressStyleModel",
            "_view_count": null,
            "_view_module": "@jupyter-widgets/base",
            "_view_module_version": "1.2.0",
            "_view_name": "StyleView",
            "bar_color": null,
            "description_width": ""
          }
        },
        "10ad68198f03402eab6127b74729eda0": {
          "model_module": "@jupyter-widgets/controls",
          "model_module_version": "1.5.0",
          "model_name": "DescriptionStyleModel",
          "state": {
            "_model_module": "@jupyter-widgets/controls",
            "_model_module_version": "1.5.0",
            "_model_name": "DescriptionStyleModel",
            "_view_count": null,
            "_view_module": "@jupyter-widgets/base",
            "_view_module_version": "1.2.0",
            "_view_name": "StyleView",
            "description_width": ""
          }
        },
        "11987469f932470cab48f694198ef922": {
          "model_module": "@jupyter-widgets/base",
          "model_module_version": "1.2.0",
          "model_name": "LayoutModel",
          "state": {
            "_model_module": "@jupyter-widgets/base",
            "_model_module_version": "1.2.0",
            "_model_name": "LayoutModel",
            "_view_count": null,
            "_view_module": "@jupyter-widgets/base",
            "_view_module_version": "1.2.0",
            "_view_name": "LayoutView",
            "align_content": null,
            "align_items": null,
            "align_self": null,
            "border": null,
            "bottom": null,
            "display": null,
            "flex": null,
            "flex_flow": null,
            "grid_area": null,
            "grid_auto_columns": null,
            "grid_auto_flow": null,
            "grid_auto_rows": null,
            "grid_column": null,
            "grid_gap": null,
            "grid_row": null,
            "grid_template_areas": null,
            "grid_template_columns": null,
            "grid_template_rows": null,
            "height": null,
            "justify_content": null,
            "justify_items": null,
            "left": null,
            "margin": null,
            "max_height": null,
            "max_width": null,
            "min_height": null,
            "min_width": null,
            "object_fit": null,
            "object_position": null,
            "order": null,
            "overflow": null,
            "overflow_x": null,
            "overflow_y": null,
            "padding": null,
            "right": null,
            "top": null,
            "visibility": null,
            "width": null
          }
        },
        "19e4f8b9238e421795fb97915ffa695e": {
          "model_module": "@jupyter-widgets/controls",
          "model_module_version": "1.5.0",
          "model_name": "DescriptionStyleModel",
          "state": {
            "_model_module": "@jupyter-widgets/controls",
            "_model_module_version": "1.5.0",
            "_model_name": "DescriptionStyleModel",
            "_view_count": null,
            "_view_module": "@jupyter-widgets/base",
            "_view_module_version": "1.2.0",
            "_view_name": "StyleView",
            "description_width": ""
          }
        },
        "1dc92441ba134342a785e8cecb445d5e": {
          "model_module": "@jupyter-widgets/controls",
          "model_module_version": "1.5.0",
          "model_name": "HBoxModel",
          "state": {
            "_dom_classes": [],
            "_model_module": "@jupyter-widgets/controls",
            "_model_module_version": "1.5.0",
            "_model_name": "HBoxModel",
            "_view_count": null,
            "_view_module": "@jupyter-widgets/controls",
            "_view_module_version": "1.5.0",
            "_view_name": "HBoxView",
            "box_style": "",
            "children": [
              "IPY_MODEL_057fc18dea454c6486851dc2460eb0f7",
              "IPY_MODEL_ad9a59c7c4944c54a7e362f8fdbb6d54",
              "IPY_MODEL_02296bc190da4c8c86a0b9aca636a8c3"
            ],
            "layout": "IPY_MODEL_a0774bb43fcd4acdbca2192ad0c6a9c7"
          }
        },
        "25792d1bf9264f93812c602a34b8c17a": {
          "model_module": "@jupyter-widgets/controls",
          "model_module_version": "1.5.0",
          "model_name": "ProgressStyleModel",
          "state": {
            "_model_module": "@jupyter-widgets/controls",
            "_model_module_version": "1.5.0",
            "_model_name": "ProgressStyleModel",
            "_view_count": null,
            "_view_module": "@jupyter-widgets/base",
            "_view_module_version": "1.2.0",
            "_view_name": "StyleView",
            "bar_color": null,
            "description_width": ""
          }
        },
        "2766c5f65e30449e95709ec90053b3d2": {
          "model_module": "@jupyter-widgets/base",
          "model_module_version": "1.2.0",
          "model_name": "LayoutModel",
          "state": {
            "_model_module": "@jupyter-widgets/base",
            "_model_module_version": "1.2.0",
            "_model_name": "LayoutModel",
            "_view_count": null,
            "_view_module": "@jupyter-widgets/base",
            "_view_module_version": "1.2.0",
            "_view_name": "LayoutView",
            "align_content": null,
            "align_items": null,
            "align_self": null,
            "border": null,
            "bottom": null,
            "display": null,
            "flex": null,
            "flex_flow": null,
            "grid_area": null,
            "grid_auto_columns": null,
            "grid_auto_flow": null,
            "grid_auto_rows": null,
            "grid_column": null,
            "grid_gap": null,
            "grid_row": null,
            "grid_template_areas": null,
            "grid_template_columns": null,
            "grid_template_rows": null,
            "height": null,
            "justify_content": null,
            "justify_items": null,
            "left": null,
            "margin": null,
            "max_height": null,
            "max_width": null,
            "min_height": null,
            "min_width": null,
            "object_fit": null,
            "object_position": null,
            "order": null,
            "overflow": null,
            "overflow_x": null,
            "overflow_y": null,
            "padding": null,
            "right": null,
            "top": null,
            "visibility": null,
            "width": null
          }
        },
        "27f19d80bfc346e2879a560ce24fad8f": {
          "model_module": "@jupyter-widgets/controls",
          "model_module_version": "1.5.0",
          "model_name": "ProgressStyleModel",
          "state": {
            "_model_module": "@jupyter-widgets/controls",
            "_model_module_version": "1.5.0",
            "_model_name": "ProgressStyleModel",
            "_view_count": null,
            "_view_module": "@jupyter-widgets/base",
            "_view_module_version": "1.2.0",
            "_view_name": "StyleView",
            "bar_color": null,
            "description_width": ""
          }
        },
        "2deb59034dbc45c2b7d918302a985282": {
          "model_module": "@jupyter-widgets/controls",
          "model_module_version": "1.5.0",
          "model_name": "DescriptionStyleModel",
          "state": {
            "_model_module": "@jupyter-widgets/controls",
            "_model_module_version": "1.5.0",
            "_model_name": "DescriptionStyleModel",
            "_view_count": null,
            "_view_module": "@jupyter-widgets/base",
            "_view_module_version": "1.2.0",
            "_view_name": "StyleView",
            "description_width": ""
          }
        },
        "2f96a4ebed70490c8f90a0c227989f60": {
          "model_module": "@jupyter-widgets/controls",
          "model_module_version": "1.5.0",
          "model_name": "HTMLModel",
          "state": {
            "_dom_classes": [],
            "_model_module": "@jupyter-widgets/controls",
            "_model_module_version": "1.5.0",
            "_model_name": "HTMLModel",
            "_view_count": null,
            "_view_module": "@jupyter-widgets/controls",
            "_view_module_version": "1.5.0",
            "_view_name": "HTMLView",
            "description": "",
            "description_tooltip": null,
            "layout": "IPY_MODEL_b52855c95a524095834f35917a59fb08",
            "placeholder": "​",
            "style": "IPY_MODEL_34d3faf088e04e488c769263f6253f04",
            "value": " 15.6M/15.6M [00:00&lt;00:00, 13.7MB/s]"
          }
        },
        "34d3faf088e04e488c769263f6253f04": {
          "model_module": "@jupyter-widgets/controls",
          "model_module_version": "1.5.0",
          "model_name": "DescriptionStyleModel",
          "state": {
            "_model_module": "@jupyter-widgets/controls",
            "_model_module_version": "1.5.0",
            "_model_name": "DescriptionStyleModel",
            "_view_count": null,
            "_view_module": "@jupyter-widgets/base",
            "_view_module_version": "1.2.0",
            "_view_name": "StyleView",
            "description_width": ""
          }
        },
        "3b69b8c768ea4cd19d4cdaf10de85fa7": {
          "model_module": "@jupyter-widgets/base",
          "model_module_version": "1.2.0",
          "model_name": "LayoutModel",
          "state": {
            "_model_module": "@jupyter-widgets/base",
            "_model_module_version": "1.2.0",
            "_model_name": "LayoutModel",
            "_view_count": null,
            "_view_module": "@jupyter-widgets/base",
            "_view_module_version": "1.2.0",
            "_view_name": "LayoutView",
            "align_content": null,
            "align_items": null,
            "align_self": null,
            "border": null,
            "bottom": null,
            "display": null,
            "flex": null,
            "flex_flow": null,
            "grid_area": null,
            "grid_auto_columns": null,
            "grid_auto_flow": null,
            "grid_auto_rows": null,
            "grid_column": null,
            "grid_gap": null,
            "grid_row": null,
            "grid_template_areas": null,
            "grid_template_columns": null,
            "grid_template_rows": null,
            "height": null,
            "justify_content": null,
            "justify_items": null,
            "left": null,
            "margin": null,
            "max_height": null,
            "max_width": null,
            "min_height": null,
            "min_width": null,
            "object_fit": null,
            "object_position": null,
            "order": null,
            "overflow": null,
            "overflow_x": null,
            "overflow_y": null,
            "padding": null,
            "right": null,
            "top": null,
            "visibility": null,
            "width": null
          }
        },
        "54fc6473f5c140f3a2add034fdcdd2f7": {
          "model_module": "@jupyter-widgets/controls",
          "model_module_version": "1.5.0",
          "model_name": "HTMLModel",
          "state": {
            "_dom_classes": [],
            "_model_module": "@jupyter-widgets/controls",
            "_model_module_version": "1.5.0",
            "_model_name": "HTMLModel",
            "_view_count": null,
            "_view_module": "@jupyter-widgets/controls",
            "_view_module_version": "1.5.0",
            "_view_name": "HTMLView",
            "description": "",
            "description_tooltip": null,
            "layout": "IPY_MODEL_a60429e2af324b3fb1a8ed0ca219aeff",
            "placeholder": "​",
            "style": "IPY_MODEL_10ad68198f03402eab6127b74729eda0",
            "value": " 2.60M/2.60M [00:00&lt;00:00, 5.22MB/s]"
          }
        },
        "59b4cf2f97a348da82570966407bd07c": {
          "model_module": "@jupyter-widgets/base",
          "model_module_version": "1.2.0",
          "model_name": "LayoutModel",
          "state": {
            "_model_module": "@jupyter-widgets/base",
            "_model_module_version": "1.2.0",
            "_model_name": "LayoutModel",
            "_view_count": null,
            "_view_module": "@jupyter-widgets/base",
            "_view_module_version": "1.2.0",
            "_view_name": "LayoutView",
            "align_content": null,
            "align_items": null,
            "align_self": null,
            "border": null,
            "bottom": null,
            "display": null,
            "flex": null,
            "flex_flow": null,
            "grid_area": null,
            "grid_auto_columns": null,
            "grid_auto_flow": null,
            "grid_auto_rows": null,
            "grid_column": null,
            "grid_gap": null,
            "grid_row": null,
            "grid_template_areas": null,
            "grid_template_columns": null,
            "grid_template_rows": null,
            "height": null,
            "justify_content": null,
            "justify_items": null,
            "left": null,
            "margin": null,
            "max_height": null,
            "max_width": null,
            "min_height": null,
            "min_width": null,
            "object_fit": null,
            "object_position": null,
            "order": null,
            "overflow": null,
            "overflow_x": null,
            "overflow_y": null,
            "padding": null,
            "right": null,
            "top": null,
            "visibility": null,
            "width": null
          }
        },
        "5f5ec49b8c2e43288b1cf423e533da72": {
          "model_module": "@jupyter-widgets/base",
          "model_module_version": "1.2.0",
          "model_name": "LayoutModel",
          "state": {
            "_model_module": "@jupyter-widgets/base",
            "_model_module_version": "1.2.0",
            "_model_name": "LayoutModel",
            "_view_count": null,
            "_view_module": "@jupyter-widgets/base",
            "_view_module_version": "1.2.0",
            "_view_name": "LayoutView",
            "align_content": null,
            "align_items": null,
            "align_self": null,
            "border": null,
            "bottom": null,
            "display": null,
            "flex": null,
            "flex_flow": null,
            "grid_area": null,
            "grid_auto_columns": null,
            "grid_auto_flow": null,
            "grid_auto_rows": null,
            "grid_column": null,
            "grid_gap": null,
            "grid_row": null,
            "grid_template_areas": null,
            "grid_template_columns": null,
            "grid_template_rows": null,
            "height": null,
            "justify_content": null,
            "justify_items": null,
            "left": null,
            "margin": null,
            "max_height": null,
            "max_width": null,
            "min_height": null,
            "min_width": null,
            "object_fit": null,
            "object_position": null,
            "order": null,
            "overflow": null,
            "overflow_x": null,
            "overflow_y": null,
            "padding": null,
            "right": null,
            "top": null,
            "visibility": null,
            "width": null
          }
        },
        "645b68e572e6419ab4ae68583b2b8a86": {
          "model_module": "@jupyter-widgets/base",
          "model_module_version": "1.2.0",
          "model_name": "LayoutModel",
          "state": {
            "_model_module": "@jupyter-widgets/base",
            "_model_module_version": "1.2.0",
            "_model_name": "LayoutModel",
            "_view_count": null,
            "_view_module": "@jupyter-widgets/base",
            "_view_module_version": "1.2.0",
            "_view_name": "LayoutView",
            "align_content": null,
            "align_items": null,
            "align_self": null,
            "border": null,
            "bottom": null,
            "display": null,
            "flex": null,
            "flex_flow": null,
            "grid_area": null,
            "grid_auto_columns": null,
            "grid_auto_flow": null,
            "grid_auto_rows": null,
            "grid_column": null,
            "grid_gap": null,
            "grid_row": null,
            "grid_template_areas": null,
            "grid_template_columns": null,
            "grid_template_rows": null,
            "height": null,
            "justify_content": null,
            "justify_items": null,
            "left": null,
            "margin": null,
            "max_height": null,
            "max_width": null,
            "min_height": null,
            "min_width": null,
            "object_fit": null,
            "object_position": null,
            "order": null,
            "overflow": null,
            "overflow_x": null,
            "overflow_y": null,
            "padding": null,
            "right": null,
            "top": null,
            "visibility": null,
            "width": null
          }
        },
        "660fcc29ff9b4b65af9f0fb26e9055e0": {
          "model_module": "@jupyter-widgets/controls",
          "model_module_version": "1.5.0",
          "model_name": "DescriptionStyleModel",
          "state": {
            "_model_module": "@jupyter-widgets/controls",
            "_model_module_version": "1.5.0",
            "_model_name": "DescriptionStyleModel",
            "_view_count": null,
            "_view_module": "@jupyter-widgets/base",
            "_view_module_version": "1.2.0",
            "_view_name": "StyleView",
            "description_width": ""
          }
        },
        "7674eaf95ec04a4485c9ad0b35a4b9e4": {
          "model_module": "@jupyter-widgets/base",
          "model_module_version": "1.2.0",
          "model_name": "LayoutModel",
          "state": {
            "_model_module": "@jupyter-widgets/base",
            "_model_module_version": "1.2.0",
            "_model_name": "LayoutModel",
            "_view_count": null,
            "_view_module": "@jupyter-widgets/base",
            "_view_module_version": "1.2.0",
            "_view_name": "LayoutView",
            "align_content": null,
            "align_items": null,
            "align_self": null,
            "border": null,
            "bottom": null,
            "display": null,
            "flex": null,
            "flex_flow": null,
            "grid_area": null,
            "grid_auto_columns": null,
            "grid_auto_flow": null,
            "grid_auto_rows": null,
            "grid_column": null,
            "grid_gap": null,
            "grid_row": null,
            "grid_template_areas": null,
            "grid_template_columns": null,
            "grid_template_rows": null,
            "height": null,
            "justify_content": null,
            "justify_items": null,
            "left": null,
            "margin": null,
            "max_height": null,
            "max_width": null,
            "min_height": null,
            "min_width": null,
            "object_fit": null,
            "object_position": null,
            "order": null,
            "overflow": null,
            "overflow_x": null,
            "overflow_y": null,
            "padding": null,
            "right": null,
            "top": null,
            "visibility": null,
            "width": null
          }
        },
        "776789dc52a84011a22406010378f538": {
          "model_module": "@jupyter-widgets/controls",
          "model_module_version": "1.5.0",
          "model_name": "VBoxModel",
          "state": {
            "_dom_classes": [],
            "_model_module": "@jupyter-widgets/controls",
            "_model_module_version": "1.5.0",
            "_model_name": "VBoxModel",
            "_view_count": null,
            "_view_module": "@jupyter-widgets/controls",
            "_view_module_version": "1.5.0",
            "_view_name": "VBoxView",
            "box_style": "",
            "children": [
              "IPY_MODEL_b12d733d225949fd93beabbc16dedb66",
              "IPY_MODEL_ac8f71ba711a4347b64aba6bfe03aa13"
            ],
            "layout": "IPY_MODEL_a865bfd9032e4c11b0b07fc76ac653fe"
          }
        },
        "781ecd85035d40efb256d8e4f6cc3616": {
          "model_module": "@jupyter-widgets/controls",
          "model_module_version": "1.5.0",
          "model_name": "HBoxModel",
          "state": {
            "_dom_classes": [],
            "_model_module": "@jupyter-widgets/controls",
            "_model_module_version": "1.5.0",
            "_model_name": "HBoxModel",
            "_view_count": null,
            "_view_module": "@jupyter-widgets/controls",
            "_view_module_version": "1.5.0",
            "_view_name": "HBoxView",
            "box_style": "",
            "children": [
              "IPY_MODEL_8204198da8e343e1b2f6092def0bf2a6",
              "IPY_MODEL_bd5cabbda477468f9f9365440046939e",
              "IPY_MODEL_d8bf3273572c4c5dac33181820360a6f"
            ],
            "layout": "IPY_MODEL_11987469f932470cab48f694198ef922"
          }
        },
        "79926361aa2c482c81928cc12496c252": {
          "model_module": "@jupyter-widgets/controls",
          "model_module_version": "1.5.0",
          "model_name": "HBoxModel",
          "state": {
            "_dom_classes": [],
            "_model_module": "@jupyter-widgets/controls",
            "_model_module_version": "1.5.0",
            "_model_name": "HBoxModel",
            "_view_count": null,
            "_view_module": "@jupyter-widgets/controls",
            "_view_module_version": "1.5.0",
            "_view_name": "HBoxView",
            "box_style": "",
            "children": [
              "IPY_MODEL_09b9f21ae5884bfc9df05cd664552b65",
              "IPY_MODEL_856c3cd4f6fe4b779c1bb57e39fc7348",
              "IPY_MODEL_2f96a4ebed70490c8f90a0c227989f60"
            ],
            "layout": "IPY_MODEL_3b69b8c768ea4cd19d4cdaf10de85fa7"
          }
        },
        "8204198da8e343e1b2f6092def0bf2a6": {
          "model_module": "@jupyter-widgets/controls",
          "model_module_version": "1.5.0",
          "model_name": "HTMLModel",
          "state": {
            "_dom_classes": [],
            "_model_module": "@jupyter-widgets/controls",
            "_model_module_version": "1.5.0",
            "_model_name": "HTMLModel",
            "_view_count": null,
            "_view_module": "@jupyter-widgets/controls",
            "_view_module_version": "1.5.0",
            "_view_name": "HTMLView",
            "description": "",
            "description_tooltip": null,
            "layout": "IPY_MODEL_aabba526817c4ee6bd00c06273bcb90d",
            "placeholder": "​",
            "style": "IPY_MODEL_fccd23162a494ba8b1b0e6fd88da437d",
            "value": "Generating test split: 100%"
          }
        },
        "856c3cd4f6fe4b779c1bb57e39fc7348": {
          "model_module": "@jupyter-widgets/controls",
          "model_module_version": "1.5.0",
          "model_name": "FloatProgressModel",
          "state": {
            "_dom_classes": [],
            "_model_module": "@jupyter-widgets/controls",
            "_model_module_version": "1.5.0",
            "_model_name": "FloatProgressModel",
            "_view_count": null,
            "_view_module": "@jupyter-widgets/controls",
            "_view_module_version": "1.5.0",
            "_view_name": "ProgressView",
            "bar_style": "success",
            "description": "",
            "description_tooltip": null,
            "layout": "IPY_MODEL_bb1168bd80e846169f6789488d4568ec",
            "max": 15561616,
            "min": 0,
            "orientation": "horizontal",
            "style": "IPY_MODEL_f4efc6f45f3545c3bfd54513613b1bd7",
            "value": 15561616
          }
        },
        "870c9ab251714153ac758feb6db75ec9": {
          "model_module": "@jupyter-widgets/base",
          "model_module_version": "1.2.0",
          "model_name": "LayoutModel",
          "state": {
            "_model_module": "@jupyter-widgets/base",
            "_model_module_version": "1.2.0",
            "_model_name": "LayoutModel",
            "_view_count": null,
            "_view_module": "@jupyter-widgets/base",
            "_view_module_version": "1.2.0",
            "_view_name": "LayoutView",
            "align_content": null,
            "align_items": null,
            "align_self": null,
            "border": null,
            "bottom": null,
            "display": null,
            "flex": null,
            "flex_flow": null,
            "grid_area": null,
            "grid_auto_columns": null,
            "grid_auto_flow": null,
            "grid_auto_rows": null,
            "grid_column": null,
            "grid_gap": null,
            "grid_row": null,
            "grid_template_areas": null,
            "grid_template_columns": null,
            "grid_template_rows": null,
            "height": null,
            "justify_content": null,
            "justify_items": null,
            "left": null,
            "margin": null,
            "max_height": null,
            "max_width": null,
            "min_height": null,
            "min_width": null,
            "object_fit": null,
            "object_position": null,
            "order": null,
            "overflow": null,
            "overflow_x": null,
            "overflow_y": null,
            "padding": null,
            "right": null,
            "top": null,
            "visibility": null,
            "width": null
          }
        },
        "8d746526a6b9435ca6969dd10a53ec0f": {
          "model_module": "@jupyter-widgets/base",
          "model_module_version": "1.2.0",
          "model_name": "LayoutModel",
          "state": {
            "_model_module": "@jupyter-widgets/base",
            "_model_module_version": "1.2.0",
            "_model_name": "LayoutModel",
            "_view_count": null,
            "_view_module": "@jupyter-widgets/base",
            "_view_module_version": "1.2.0",
            "_view_name": "LayoutView",
            "align_content": null,
            "align_items": null,
            "align_self": null,
            "border": null,
            "bottom": null,
            "display": null,
            "flex": null,
            "flex_flow": null,
            "grid_area": null,
            "grid_auto_columns": null,
            "grid_auto_flow": null,
            "grid_auto_rows": null,
            "grid_column": null,
            "grid_gap": null,
            "grid_row": null,
            "grid_template_areas": null,
            "grid_template_columns": null,
            "grid_template_rows": null,
            "height": null,
            "justify_content": null,
            "justify_items": null,
            "left": null,
            "margin": null,
            "max_height": null,
            "max_width": null,
            "min_height": null,
            "min_width": null,
            "object_fit": null,
            "object_position": null,
            "order": null,
            "overflow": null,
            "overflow_x": null,
            "overflow_y": null,
            "padding": null,
            "right": null,
            "top": null,
            "visibility": null,
            "width": null
          }
        },
        "a0774bb43fcd4acdbca2192ad0c6a9c7": {
          "model_module": "@jupyter-widgets/base",
          "model_module_version": "1.2.0",
          "model_name": "LayoutModel",
          "state": {
            "_model_module": "@jupyter-widgets/base",
            "_model_module_version": "1.2.0",
            "_model_name": "LayoutModel",
            "_view_count": null,
            "_view_module": "@jupyter-widgets/base",
            "_view_module_version": "1.2.0",
            "_view_name": "LayoutView",
            "align_content": null,
            "align_items": null,
            "align_self": null,
            "border": null,
            "bottom": null,
            "display": null,
            "flex": null,
            "flex_flow": null,
            "grid_area": null,
            "grid_auto_columns": null,
            "grid_auto_flow": null,
            "grid_auto_rows": null,
            "grid_column": null,
            "grid_gap": null,
            "grid_row": null,
            "grid_template_areas": null,
            "grid_template_columns": null,
            "grid_template_rows": null,
            "height": null,
            "justify_content": null,
            "justify_items": null,
            "left": null,
            "margin": null,
            "max_height": null,
            "max_width": null,
            "min_height": null,
            "min_width": null,
            "object_fit": null,
            "object_position": null,
            "order": null,
            "overflow": null,
            "overflow_x": null,
            "overflow_y": null,
            "padding": null,
            "right": null,
            "top": null,
            "visibility": null,
            "width": null
          }
        },
        "a40e9126292849d5927ad4c4ad68549c": {
          "model_module": "@jupyter-widgets/base",
          "model_module_version": "1.2.0",
          "model_name": "LayoutModel",
          "state": {
            "_model_module": "@jupyter-widgets/base",
            "_model_module_version": "1.2.0",
            "_model_name": "LayoutModel",
            "_view_count": null,
            "_view_module": "@jupyter-widgets/base",
            "_view_module_version": "1.2.0",
            "_view_name": "LayoutView",
            "align_content": null,
            "align_items": null,
            "align_self": null,
            "border": null,
            "bottom": null,
            "display": null,
            "flex": null,
            "flex_flow": null,
            "grid_area": null,
            "grid_auto_columns": null,
            "grid_auto_flow": null,
            "grid_auto_rows": null,
            "grid_column": null,
            "grid_gap": null,
            "grid_row": null,
            "grid_template_areas": null,
            "grid_template_columns": null,
            "grid_template_rows": null,
            "height": null,
            "justify_content": null,
            "justify_items": null,
            "left": null,
            "margin": null,
            "max_height": null,
            "max_width": null,
            "min_height": null,
            "min_width": null,
            "object_fit": null,
            "object_position": null,
            "order": null,
            "overflow": null,
            "overflow_x": null,
            "overflow_y": null,
            "padding": null,
            "right": null,
            "top": null,
            "visibility": null,
            "width": null
          }
        },
        "a60429e2af324b3fb1a8ed0ca219aeff": {
          "model_module": "@jupyter-widgets/base",
          "model_module_version": "1.2.0",
          "model_name": "LayoutModel",
          "state": {
            "_model_module": "@jupyter-widgets/base",
            "_model_module_version": "1.2.0",
            "_model_name": "LayoutModel",
            "_view_count": null,
            "_view_module": "@jupyter-widgets/base",
            "_view_module_version": "1.2.0",
            "_view_name": "LayoutView",
            "align_content": null,
            "align_items": null,
            "align_self": null,
            "border": null,
            "bottom": null,
            "display": null,
            "flex": null,
            "flex_flow": null,
            "grid_area": null,
            "grid_auto_columns": null,
            "grid_auto_flow": null,
            "grid_auto_rows": null,
            "grid_column": null,
            "grid_gap": null,
            "grid_row": null,
            "grid_template_areas": null,
            "grid_template_columns": null,
            "grid_template_rows": null,
            "height": null,
            "justify_content": null,
            "justify_items": null,
            "left": null,
            "margin": null,
            "max_height": null,
            "max_width": null,
            "min_height": null,
            "min_width": null,
            "object_fit": null,
            "object_position": null,
            "order": null,
            "overflow": null,
            "overflow_x": null,
            "overflow_y": null,
            "padding": null,
            "right": null,
            "top": null,
            "visibility": null,
            "width": null
          }
        },
        "a865bfd9032e4c11b0b07fc76ac653fe": {
          "model_module": "@jupyter-widgets/base",
          "model_module_version": "1.2.0",
          "model_name": "LayoutModel",
          "state": {
            "_model_module": "@jupyter-widgets/base",
            "_model_module_version": "1.2.0",
            "_model_name": "LayoutModel",
            "_view_count": null,
            "_view_module": "@jupyter-widgets/base",
            "_view_module_version": "1.2.0",
            "_view_name": "LayoutView",
            "align_content": null,
            "align_items": null,
            "align_self": null,
            "border": null,
            "bottom": null,
            "display": null,
            "flex": null,
            "flex_flow": null,
            "grid_area": null,
            "grid_auto_columns": null,
            "grid_auto_flow": null,
            "grid_auto_rows": null,
            "grid_column": null,
            "grid_gap": null,
            "grid_row": null,
            "grid_template_areas": null,
            "grid_template_columns": null,
            "grid_template_rows": null,
            "height": null,
            "justify_content": null,
            "justify_items": null,
            "left": null,
            "margin": null,
            "max_height": null,
            "max_width": null,
            "min_height": null,
            "min_width": null,
            "object_fit": null,
            "object_position": null,
            "order": null,
            "overflow": null,
            "overflow_x": null,
            "overflow_y": null,
            "padding": null,
            "right": null,
            "top": null,
            "visibility": null,
            "width": null
          }
        },
        "aabba526817c4ee6bd00c06273bcb90d": {
          "model_module": "@jupyter-widgets/base",
          "model_module_version": "1.2.0",
          "model_name": "LayoutModel",
          "state": {
            "_model_module": "@jupyter-widgets/base",
            "_model_module_version": "1.2.0",
            "_model_name": "LayoutModel",
            "_view_count": null,
            "_view_module": "@jupyter-widgets/base",
            "_view_module_version": "1.2.0",
            "_view_name": "LayoutView",
            "align_content": null,
            "align_items": null,
            "align_self": null,
            "border": null,
            "bottom": null,
            "display": null,
            "flex": null,
            "flex_flow": null,
            "grid_area": null,
            "grid_auto_columns": null,
            "grid_auto_flow": null,
            "grid_auto_rows": null,
            "grid_column": null,
            "grid_gap": null,
            "grid_row": null,
            "grid_template_areas": null,
            "grid_template_columns": null,
            "grid_template_rows": null,
            "height": null,
            "justify_content": null,
            "justify_items": null,
            "left": null,
            "margin": null,
            "max_height": null,
            "max_width": null,
            "min_height": null,
            "min_width": null,
            "object_fit": null,
            "object_position": null,
            "order": null,
            "overflow": null,
            "overflow_x": null,
            "overflow_y": null,
            "padding": null,
            "right": null,
            "top": null,
            "visibility": null,
            "width": null
          }
        },
        "abc03ce6ac094a478e19dadb844e2b18": {
          "model_module": "@jupyter-widgets/controls",
          "model_module_version": "1.5.0",
          "model_name": "HBoxModel",
          "state": {
            "_dom_classes": [],
            "_model_module": "@jupyter-widgets/controls",
            "_model_module_version": "1.5.0",
            "_model_name": "HBoxModel",
            "_view_count": null,
            "_view_module": "@jupyter-widgets/controls",
            "_view_module_version": "1.5.0",
            "_view_name": "HBoxView",
            "box_style": "",
            "children": [
              "IPY_MODEL_d0055d33584143fbb946130d7fb42570",
              "IPY_MODEL_d2ad874016d84de9bac833913c4d34fb",
              "IPY_MODEL_54fc6473f5c140f3a2add034fdcdd2f7"
            ],
            "layout": "IPY_MODEL_7674eaf95ec04a4485c9ad0b35a4b9e4"
          }
        },
        "ac8f71ba711a4347b64aba6bfe03aa13": {
          "model_module": "@jupyter-widgets/controls",
          "model_module_version": "1.5.0",
          "model_name": "FloatProgressModel",
          "state": {
            "_dom_classes": [],
            "_model_module": "@jupyter-widgets/controls",
            "_model_module_version": "1.5.0",
            "_model_name": "FloatProgressModel",
            "_view_count": null,
            "_view_module": "@jupyter-widgets/controls",
            "_view_module_version": "1.5.0",
            "_view_name": "ProgressView",
            "bar_style": "",
            "description": "",
            "description_tooltip": null,
            "layout": "IPY_MODEL_2766c5f65e30449e95709ec90053b3d2",
            "max": 1,
            "min": 0,
            "orientation": "horizontal",
            "style": "IPY_MODEL_0ea6f79e895a4dc0840dfcbe1859c617",
            "value": 1
          }
        },
        "ad9a59c7c4944c54a7e362f8fdbb6d54": {
          "model_module": "@jupyter-widgets/controls",
          "model_module_version": "1.5.0",
          "model_name": "FloatProgressModel",
          "state": {
            "_dom_classes": [],
            "_model_module": "@jupyter-widgets/controls",
            "_model_module_version": "1.5.0",
            "_model_name": "FloatProgressModel",
            "_view_count": null,
            "_view_module": "@jupyter-widgets/controls",
            "_view_module_version": "1.5.0",
            "_view_name": "ProgressView",
            "bar_style": "success",
            "description": "",
            "description_tooltip": null,
            "layout": "IPY_MODEL_59b4cf2f97a348da82570966407bd07c",
            "max": 60000,
            "min": 0,
            "orientation": "horizontal",
            "style": "IPY_MODEL_27f19d80bfc346e2879a560ce24fad8f",
            "value": 60000
          }
        },
        "b12d733d225949fd93beabbc16dedb66": {
          "model_module": "@jupyter-widgets/controls",
          "model_module_version": "1.5.0",
          "model_name": "LabelModel",
          "state": {
            "_dom_classes": [],
            "_model_module": "@jupyter-widgets/controls",
            "_model_module_version": "1.5.0",
            "_model_name": "LabelModel",
            "_view_count": null,
            "_view_module": "@jupyter-widgets/controls",
            "_view_module_version": "1.5.0",
            "_view_name": "LabelView",
            "description": "",
            "description_tooltip": null,
            "layout": "IPY_MODEL_5f5ec49b8c2e43288b1cf423e533da72",
            "placeholder": "​",
            "style": "IPY_MODEL_2deb59034dbc45c2b7d918302a985282",
            "value": "0.012 MB of 0.012 MB uploaded\r"
          }
        },
        "b52855c95a524095834f35917a59fb08": {
          "model_module": "@jupyter-widgets/base",
          "model_module_version": "1.2.0",
          "model_name": "LayoutModel",
          "state": {
            "_model_module": "@jupyter-widgets/base",
            "_model_module_version": "1.2.0",
            "_model_name": "LayoutModel",
            "_view_count": null,
            "_view_module": "@jupyter-widgets/base",
            "_view_module_version": "1.2.0",
            "_view_name": "LayoutView",
            "align_content": null,
            "align_items": null,
            "align_self": null,
            "border": null,
            "bottom": null,
            "display": null,
            "flex": null,
            "flex_flow": null,
            "grid_area": null,
            "grid_auto_columns": null,
            "grid_auto_flow": null,
            "grid_auto_rows": null,
            "grid_column": null,
            "grid_gap": null,
            "grid_row": null,
            "grid_template_areas": null,
            "grid_template_columns": null,
            "grid_template_rows": null,
            "height": null,
            "justify_content": null,
            "justify_items": null,
            "left": null,
            "margin": null,
            "max_height": null,
            "max_width": null,
            "min_height": null,
            "min_width": null,
            "object_fit": null,
            "object_position": null,
            "order": null,
            "overflow": null,
            "overflow_x": null,
            "overflow_y": null,
            "padding": null,
            "right": null,
            "top": null,
            "visibility": null,
            "width": null
          }
        },
        "bb1168bd80e846169f6789488d4568ec": {
          "model_module": "@jupyter-widgets/base",
          "model_module_version": "1.2.0",
          "model_name": "LayoutModel",
          "state": {
            "_model_module": "@jupyter-widgets/base",
            "_model_module_version": "1.2.0",
            "_model_name": "LayoutModel",
            "_view_count": null,
            "_view_module": "@jupyter-widgets/base",
            "_view_module_version": "1.2.0",
            "_view_name": "LayoutView",
            "align_content": null,
            "align_items": null,
            "align_self": null,
            "border": null,
            "bottom": null,
            "display": null,
            "flex": null,
            "flex_flow": null,
            "grid_area": null,
            "grid_auto_columns": null,
            "grid_auto_flow": null,
            "grid_auto_rows": null,
            "grid_column": null,
            "grid_gap": null,
            "grid_row": null,
            "grid_template_areas": null,
            "grid_template_columns": null,
            "grid_template_rows": null,
            "height": null,
            "justify_content": null,
            "justify_items": null,
            "left": null,
            "margin": null,
            "max_height": null,
            "max_width": null,
            "min_height": null,
            "min_width": null,
            "object_fit": null,
            "object_position": null,
            "order": null,
            "overflow": null,
            "overflow_x": null,
            "overflow_y": null,
            "padding": null,
            "right": null,
            "top": null,
            "visibility": null,
            "width": null
          }
        },
        "bd5cabbda477468f9f9365440046939e": {
          "model_module": "@jupyter-widgets/controls",
          "model_module_version": "1.5.0",
          "model_name": "FloatProgressModel",
          "state": {
            "_dom_classes": [],
            "_model_module": "@jupyter-widgets/controls",
            "_model_module_version": "1.5.0",
            "_model_name": "FloatProgressModel",
            "_view_count": null,
            "_view_module": "@jupyter-widgets/controls",
            "_view_module_version": "1.5.0",
            "_view_name": "ProgressView",
            "bar_style": "success",
            "description": "",
            "description_tooltip": null,
            "layout": "IPY_MODEL_870c9ab251714153ac758feb6db75ec9",
            "max": 10000,
            "min": 0,
            "orientation": "horizontal",
            "style": "IPY_MODEL_091baf1772cf4dccad23b1a31a31d30b",
            "value": 10000
          }
        },
        "c6b0f6ab47fe49969003d0aaa8aaae7f": {
          "model_module": "@jupyter-widgets/controls",
          "model_module_version": "1.5.0",
          "model_name": "DescriptionStyleModel",
          "state": {
            "_model_module": "@jupyter-widgets/controls",
            "_model_module_version": "1.5.0",
            "_model_name": "DescriptionStyleModel",
            "_view_count": null,
            "_view_module": "@jupyter-widgets/base",
            "_view_module_version": "1.2.0",
            "_view_name": "StyleView",
            "description_width": ""
          }
        },
        "c89d4e80b0c747eaabcb0b577d81e286": {
          "model_module": "@jupyter-widgets/controls",
          "model_module_version": "1.5.0",
          "model_name": "DescriptionStyleModel",
          "state": {
            "_model_module": "@jupyter-widgets/controls",
            "_model_module_version": "1.5.0",
            "_model_name": "DescriptionStyleModel",
            "_view_count": null,
            "_view_module": "@jupyter-widgets/base",
            "_view_module_version": "1.2.0",
            "_view_name": "StyleView",
            "description_width": ""
          }
        },
        "d0055d33584143fbb946130d7fb42570": {
          "model_module": "@jupyter-widgets/controls",
          "model_module_version": "1.5.0",
          "model_name": "HTMLModel",
          "state": {
            "_dom_classes": [],
            "_model_module": "@jupyter-widgets/controls",
            "_model_module_version": "1.5.0",
            "_model_name": "HTMLModel",
            "_view_count": null,
            "_view_module": "@jupyter-widgets/controls",
            "_view_module_version": "1.5.0",
            "_view_name": "HTMLView",
            "description": "",
            "description_tooltip": null,
            "layout": "IPY_MODEL_ff6de814d880495297b14fdfa5c43444",
            "placeholder": "​",
            "style": "IPY_MODEL_19e4f8b9238e421795fb97915ffa695e",
            "value": "Downloading data: 100%"
          }
        },
        "d2ad874016d84de9bac833913c4d34fb": {
          "model_module": "@jupyter-widgets/controls",
          "model_module_version": "1.5.0",
          "model_name": "FloatProgressModel",
          "state": {
            "_dom_classes": [],
            "_model_module": "@jupyter-widgets/controls",
            "_model_module_version": "1.5.0",
            "_model_name": "FloatProgressModel",
            "_view_count": null,
            "_view_module": "@jupyter-widgets/controls",
            "_view_module_version": "1.5.0",
            "_view_name": "ProgressView",
            "bar_style": "success",
            "description": "",
            "description_tooltip": null,
            "layout": "IPY_MODEL_a40e9126292849d5927ad4c4ad68549c",
            "max": 2595890,
            "min": 0,
            "orientation": "horizontal",
            "style": "IPY_MODEL_25792d1bf9264f93812c602a34b8c17a",
            "value": 2595890
          }
        },
        "d333250f41224ea88c2dd90f70f3df7d": {
          "model_module": "@jupyter-widgets/controls",
          "model_module_version": "1.5.0",
          "model_name": "DescriptionStyleModel",
          "state": {
            "_model_module": "@jupyter-widgets/controls",
            "_model_module_version": "1.5.0",
            "_model_name": "DescriptionStyleModel",
            "_view_count": null,
            "_view_module": "@jupyter-widgets/base",
            "_view_module_version": "1.2.0",
            "_view_name": "StyleView",
            "description_width": ""
          }
        },
        "d8bf3273572c4c5dac33181820360a6f": {
          "model_module": "@jupyter-widgets/controls",
          "model_module_version": "1.5.0",
          "model_name": "HTMLModel",
          "state": {
            "_dom_classes": [],
            "_model_module": "@jupyter-widgets/controls",
            "_model_module_version": "1.5.0",
            "_model_name": "HTMLModel",
            "_view_count": null,
            "_view_module": "@jupyter-widgets/controls",
            "_view_module_version": "1.5.0",
            "_view_name": "HTMLView",
            "description": "",
            "description_tooltip": null,
            "layout": "IPY_MODEL_ec3b316b68dc4fd897529ed6b8c8d7e5",
            "placeholder": "​",
            "style": "IPY_MODEL_c89d4e80b0c747eaabcb0b577d81e286",
            "value": " 10000/10000 [00:00&lt;00:00, 97209.41 examples/s]"
          }
        },
        "ec3b316b68dc4fd897529ed6b8c8d7e5": {
          "model_module": "@jupyter-widgets/base",
          "model_module_version": "1.2.0",
          "model_name": "LayoutModel",
          "state": {
            "_model_module": "@jupyter-widgets/base",
            "_model_module_version": "1.2.0",
            "_model_name": "LayoutModel",
            "_view_count": null,
            "_view_module": "@jupyter-widgets/base",
            "_view_module_version": "1.2.0",
            "_view_name": "LayoutView",
            "align_content": null,
            "align_items": null,
            "align_self": null,
            "border": null,
            "bottom": null,
            "display": null,
            "flex": null,
            "flex_flow": null,
            "grid_area": null,
            "grid_auto_columns": null,
            "grid_auto_flow": null,
            "grid_auto_rows": null,
            "grid_column": null,
            "grid_gap": null,
            "grid_row": null,
            "grid_template_areas": null,
            "grid_template_columns": null,
            "grid_template_rows": null,
            "height": null,
            "justify_content": null,
            "justify_items": null,
            "left": null,
            "margin": null,
            "max_height": null,
            "max_width": null,
            "min_height": null,
            "min_width": null,
            "object_fit": null,
            "object_position": null,
            "order": null,
            "overflow": null,
            "overflow_x": null,
            "overflow_y": null,
            "padding": null,
            "right": null,
            "top": null,
            "visibility": null,
            "width": null
          }
        },
        "f4efc6f45f3545c3bfd54513613b1bd7": {
          "model_module": "@jupyter-widgets/controls",
          "model_module_version": "1.5.0",
          "model_name": "ProgressStyleModel",
          "state": {
            "_model_module": "@jupyter-widgets/controls",
            "_model_module_version": "1.5.0",
            "_model_name": "ProgressStyleModel",
            "_view_count": null,
            "_view_module": "@jupyter-widgets/base",
            "_view_module_version": "1.2.0",
            "_view_name": "StyleView",
            "bar_color": null,
            "description_width": ""
          }
        },
        "fccd23162a494ba8b1b0e6fd88da437d": {
          "model_module": "@jupyter-widgets/controls",
          "model_module_version": "1.5.0",
          "model_name": "DescriptionStyleModel",
          "state": {
            "_model_module": "@jupyter-widgets/controls",
            "_model_module_version": "1.5.0",
            "_model_name": "DescriptionStyleModel",
            "_view_count": null,
            "_view_module": "@jupyter-widgets/base",
            "_view_module_version": "1.2.0",
            "_view_name": "StyleView",
            "description_width": ""
          }
        },
        "ff6de814d880495297b14fdfa5c43444": {
          "model_module": "@jupyter-widgets/base",
          "model_module_version": "1.2.0",
          "model_name": "LayoutModel",
          "state": {
            "_model_module": "@jupyter-widgets/base",
            "_model_module_version": "1.2.0",
            "_model_name": "LayoutModel",
            "_view_count": null,
            "_view_module": "@jupyter-widgets/base",
            "_view_module_version": "1.2.0",
            "_view_name": "LayoutView",
            "align_content": null,
            "align_items": null,
            "align_self": null,
            "border": null,
            "bottom": null,
            "display": null,
            "flex": null,
            "flex_flow": null,
            "grid_area": null,
            "grid_auto_columns": null,
            "grid_auto_flow": null,
            "grid_auto_rows": null,
            "grid_column": null,
            "grid_gap": null,
            "grid_row": null,
            "grid_template_areas": null,
            "grid_template_columns": null,
            "grid_template_rows": null,
            "height": null,
            "justify_content": null,
            "justify_items": null,
            "left": null,
            "margin": null,
            "max_height": null,
            "max_width": null,
            "min_height": null,
            "min_width": null,
            "object_fit": null,
            "object_position": null,
            "order": null,
            "overflow": null,
            "overflow_x": null,
            "overflow_y": null,
            "padding": null,
            "right": null,
            "top": null,
            "visibility": null,
            "width": null
          }
        }
      }
    }
  },
  "nbformat": 4,
  "nbformat_minor": 0
}
